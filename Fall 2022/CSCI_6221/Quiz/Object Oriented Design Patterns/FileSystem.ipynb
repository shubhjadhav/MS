{
 "cells": [
  {
   "cell_type": "code",
   "execution_count": 1,
   "id": "3d444233",
   "metadata": {},
   "outputs": [],
   "source": [
    "class Folder:\n",
    "    \n",
    "    def __init__(self,name):\n",
    "        self.name = name\n",
    "        self.folders = []\n",
    "        self.files = []\n",
    "\n",
    "    def add_file(self, file):\n",
    "        self.files.append(file)\n",
    "\n",
    "    def add_folder(self, folder):\n",
    "        self.folders.append(folder)\n",
    "\n",
    "    def delete_file(self, file):\n",
    "        self.files.remove(file)\n",
    "\n",
    "    def delete_folder(self, folder):\n",
    "        self.folders.remove(folder)\n",
    "\n",
    "    def print_file_names(self):\n",
    "        for i,file in enumerate(self.files):\n",
    "            print(\"File \",i+1,\": \",file.name)\n",
    "        if not self.files:\n",
    "            print(\"No Files in \",self.name)\n",
    "\n",
    "    def print_folder_names(self):\n",
    "        for i,folder in enumerate(self.folders):\n",
    "            print(\"Folder \",i+1,\": \",folder.name)\n",
    "        if not self.folders:\n",
    "            print(\"No Folders in \",self.name)\n",
    "\n",
    "\n",
    "class File:\n",
    "    \n",
    "    def __init__(self, name):\n",
    "        self.name = name"
   ]
  },
  {
   "cell_type": "code",
   "execution_count": 2,
   "id": "ea353ce2",
   "metadata": {},
   "outputs": [
    {
     "name": "stdout",
     "output_type": "stream",
     "text": [
      "Fall 2022\n",
      "No Files in  Fall 2022\n",
      "No Folders in  Fall 2022\n"
     ]
    }
   ],
   "source": [
    "current_semester = Folder(\"Fall 2022\")\n",
    "print(current_semester.name)\n",
    "current_semester.print_file_names()\n",
    "current_semester.print_folder_names()"
   ]
  },
  {
   "cell_type": "code",
   "execution_count": 3,
   "id": "9f198646",
   "metadata": {},
   "outputs": [
    {
     "name": "stdout",
     "output_type": "stream",
     "text": [
      "File  1 :  Miscelleneous\n"
     ]
    }
   ],
   "source": [
    "misc_file = File(\"Miscelleneous\")\n",
    "current_semester.add_file(misc_file)\n",
    "current_semester.print_file_names()"
   ]
  },
  {
   "cell_type": "code",
   "execution_count": 4,
   "id": "beec6256",
   "metadata": {},
   "outputs": [
    {
     "name": "stdout",
     "output_type": "stream",
     "text": [
      "Fall 2022\n",
      "No Folders in  ASP\n",
      "No Files in  ASP\n"
     ]
    }
   ],
   "source": [
    "asp = Folder(\"ASP\")\n",
    "print(current_semester.name)\n",
    "asp.print_folder_names()\n",
    "asp.print_file_names()"
   ]
  },
  {
   "cell_type": "code",
   "execution_count": 5,
   "id": "9944dbd2",
   "metadata": {},
   "outputs": [],
   "source": [
    "asp_chapters = [\n",
    "    \"Preliminaries\", \n",
    "    \"Evolution of the Major Programming Languages\",\n",
    "    \"Describing Syntax and Semantics\",\n",
    "    \"Lexical and Syntax Analysis\",\n",
    "    \"Names, Bindings, and Scopes\",\n",
    "    \"Data Types\",\n",
    "    \"Expressions and Assignment Statements\",\n",
    "    \"Statement-Level Control Structures\",\n",
    "    \"Subprograms\",\n",
    "    \"Implementing Subprograms\",\n",
    "    \"Abstract Data Types and Encapsulation Constructs\",\n",
    "    \"Support for Object-Oriented Programming\"\n",
    "]\n",
    "\n",
    "for i,chapter in enumerate(asp_chapters):\n",
    "    globals()[f'asp_chapter_{i}'] = File(chapter)\n",
    "    asp.add_file(globals()[f'asp_chapter_{i}'])"
   ]
  },
  {
   "cell_type": "code",
   "execution_count": 6,
   "id": "41304f6f",
   "metadata": {},
   "outputs": [
    {
     "name": "stdout",
     "output_type": "stream",
     "text": [
      "File  1 :  Preliminaries\n",
      "File  2 :  Evolution of the Major Programming Languages\n",
      "File  3 :  Describing Syntax and Semantics\n",
      "File  4 :  Lexical and Syntax Analysis\n",
      "File  5 :  Names, Bindings, and Scopes\n",
      "File  6 :  Data Types\n",
      "File  7 :  Expressions and Assignment Statements\n",
      "File  8 :  Statement-Level Control Structures\n",
      "File  9 :  Subprograms\n",
      "File  10 :  Implementing Subprograms\n",
      "File  11 :  Abstract Data Types and Encapsulation Constructs\n",
      "File  12 :  Support for Object-Oriented Programming\n"
     ]
    }
   ],
   "source": [
    "asp.print_file_names()"
   ]
  },
  {
   "cell_type": "code",
   "execution_count": 7,
   "id": "e3f4b5b0",
   "metadata": {},
   "outputs": [
    {
     "name": "stdout",
     "output_type": "stream",
     "text": [
      "File  1 :  Miscelleneous\n"
     ]
    }
   ],
   "source": [
    "current_semester.print_file_names()"
   ]
  },
  {
   "cell_type": "code",
   "execution_count": 8,
   "id": "713084df",
   "metadata": {},
   "outputs": [
    {
     "name": "stdout",
     "output_type": "stream",
     "text": [
      "File  1 :  Miscelleneous\n",
      "Folder  1 :  ASP\n"
     ]
    }
   ],
   "source": [
    "current_semester.add_folder(asp)\n",
    "current_semester.print_file_names()\n",
    "current_semester.print_folder_names()"
   ]
  },
  {
   "cell_type": "code",
   "execution_count": 9,
   "id": "611a15a1",
   "metadata": {},
   "outputs": [
    {
     "name": "stdout",
     "output_type": "stream",
     "text": [
      "No Files in  Fall 2022\n",
      "Folder  1 :  ASP\n"
     ]
    }
   ],
   "source": [
    "current_semester.delete_file(misc_file)\n",
    "current_semester.print_file_names()\n",
    "current_semester.print_folder_names()"
   ]
  },
  {
   "cell_type": "code",
   "execution_count": 10,
   "id": "5f29cb71",
   "metadata": {},
   "outputs": [
    {
     "name": "stdout",
     "output_type": "stream",
     "text": [
      "No Folders in  Fall 2022\n"
     ]
    }
   ],
   "source": [
    "current_semester.delete_folder(asp)\n",
    "current_semester.print_folder_names()"
   ]
  }
 ],
 "metadata": {
  "kernelspec": {
   "display_name": "Python 3 (ipykernel)",
   "language": "python",
   "name": "python3"
  },
  "language_info": {
   "codemirror_mode": {
    "name": "ipython",
    "version": 3
   },
   "file_extension": ".py",
   "mimetype": "text/x-python",
   "name": "python",
   "nbconvert_exporter": "python",
   "pygments_lexer": "ipython3",
   "version": "3.9.13"
  }
 },
 "nbformat": 4,
 "nbformat_minor": 5
}
